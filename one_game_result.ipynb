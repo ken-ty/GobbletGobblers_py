{
 "cells": [
  {
   "cell_type": "code",
   "execution_count": 1,
   "metadata": {},
   "outputs": [
    {
     "name": "stdout",
     "output_type": "stream",
     "text": [
      "MiniMax Player\n",
      "\n",
      "o--\n",
      "---\n",
      "---\n",
      "\n",
      "\n",
      "Random Player\n",
      "\n",
      "ox-\n",
      "---\n",
      "---\n",
      "\n",
      "\n",
      "MiniMax Player\n",
      "\n",
      "ox-\n",
      "o--\n",
      "---\n",
      "\n",
      "\n",
      "Random Player\n",
      "\n",
      "ox-\n",
      "ox-\n",
      "---\n",
      "\n",
      "\n",
      "MiniMax Player\n",
      "\n",
      "ox-\n",
      "ox-\n",
      "o--\n",
      "\n",
      "\n"
     ]
    }
   ],
   "source": [
    "# MiniMax_VS_Random\n",
    "%run -i main.py"
   ]
  },
  {
   "cell_type": "code",
   "execution_count": 3,
   "metadata": {},
   "outputs": [
    {
     "name": "stdout",
     "output_type": "stream",
     "text": [
      "MiniMax Player\n",
      "\n",
      "o--\n",
      "---\n",
      "---\n",
      "\n",
      "\n",
      "MiniMax Player\n",
      "\n",
      "o--\n",
      "-x-\n",
      "---\n",
      "\n",
      "\n",
      "MiniMax Player\n",
      "\n",
      "oo-\n",
      "-x-\n",
      "---\n",
      "\n",
      "\n",
      "MiniMax Player\n",
      "\n",
      "oox\n",
      "-x-\n",
      "---\n",
      "\n",
      "\n",
      "MiniMax Player\n",
      "\n",
      "oox\n",
      "-x-\n",
      "o--\n",
      "\n",
      "\n",
      "MiniMax Player\n",
      "\n",
      "oox\n",
      "xx-\n",
      "o--\n",
      "\n",
      "\n",
      "MiniMax Player\n",
      "\n",
      "oox\n",
      "xxo\n",
      "o--\n",
      "\n",
      "\n",
      "MiniMax Player\n",
      "\n",
      "oox\n",
      "xxo\n",
      "ox-\n",
      "\n",
      "\n",
      "MiniMax Player\n",
      "\n",
      "oox\n",
      "xxo\n",
      "oxo\n",
      "\n",
      "\n"
     ]
    }
   ],
   "source": [
    "# MiniMax_VS_MiniMax\n",
    "%run -i main.py"
   ]
  },
  {
   "cell_type": "code",
   "execution_count": null,
   "metadata": {},
   "outputs": [],
   "source": []
  }
 ],
 "metadata": {
  "kernelspec": {
   "display_name": "Python 3",
   "language": "python",
   "name": "python3"
  },
  "language_info": {
   "codemirror_mode": {
    "name": "ipython",
    "version": 3
   },
   "file_extension": ".py",
   "mimetype": "text/x-python",
   "name": "python",
   "nbconvert_exporter": "python",
   "pygments_lexer": "ipython3",
   "version": "3.7.3"
  }
 },
 "nbformat": 4,
 "nbformat_minor": 2
}
